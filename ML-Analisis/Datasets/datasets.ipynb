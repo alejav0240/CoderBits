{
 "cells": [
  {
   "cell_type": "code",
   "id": "initial_id",
   "metadata": {
    "collapsed": true,
    "ExecuteTime": {
     "end_time": "2025-09-23T03:40:00.149832Z",
     "start_time": "2025-09-23T03:40:00.147584Z"
    }
   },
   "source": "import kagglehub",
   "outputs": [],
   "execution_count": 8
  },
  {
   "metadata": {
    "ExecuteTime": {
     "end_time": "2025-09-23T03:40:00.774636Z",
     "start_time": "2025-09-23T03:40:00.205859Z"
    }
   },
   "cell_type": "code",
   "source": [
    "# Download latest version\n",
    "path1 = kagglehub.dataset_download(\"mrwellsdavid/unsw-nb15\")\n",
    "\n",
    "print(\"Path to dataset files:\", path1)"
   ],
   "id": "7b6aca3f46d23cae",
   "outputs": [
    {
     "name": "stdout",
     "output_type": "stream",
     "text": [
      "Warning: Looks like you're using an outdated `kagglehub` version, please consider updating (latest version: 0.3.13)\n",
      "Path to dataset files: /home/javi/.cache/kagglehub/datasets/chethuhn/network-intrusion-dataset/versions/1\n"
     ]
    }
   ],
   "execution_count": 9
  },
  {
   "metadata": {},
   "cell_type": "markdown",
   "source": [
    "# 📌 Archivos principales\n",
    "\n",
    "* NUSW-NB15_features.csv: contiene el nombre de las características (atributos).\n",
    "* UNSW-NB15_1.csv a UNSW-NB15_4.csv: dataset crudo dividido en 4 partes.\n",
    "* UNSW_NB15_training-set.csv: dataset de entrenamiento.\n",
    "* UNSW_NB15_testing-set.csv: dataset de prueba.\n",
    "* UNSW-NB15_LIST_EVENTS.csv: descripción de tipos de ataques."
   ],
   "id": "c8144e53574eeee8"
  },
  {
   "metadata": {
    "ExecuteTime": {
     "end_time": "2025-09-23T03:40:01.380185Z",
     "start_time": "2025-09-23T03:40:00.859862Z"
    }
   },
   "cell_type": "code",
   "source": [
    "# Download latest version\n",
    "path2 = kagglehub.dataset_download(\"chethuhn/network-intrusion-dataset\")\n",
    "\n",
    "print(\"Path to dataset files:\", path2)"
   ],
   "id": "b426ffeaefe66f60",
   "outputs": [
    {
     "name": "stdout",
     "output_type": "stream",
     "text": [
      "Warning: Looks like you're using an outdated `kagglehub` version, please consider updating (latest version: 0.3.13)\n",
      "Path to dataset files: /home/javi/.cache/kagglehub/datasets/chethuhn/network-intrusion-dataset/versions/1\n"
     ]
    }
   ],
   "execution_count": 10
  }
 ],
 "metadata": {
  "kernelspec": {
   "display_name": "Python 3",
   "language": "python",
   "name": "python3"
  },
  "language_info": {
   "codemirror_mode": {
    "name": "ipython",
    "version": 2
   },
   "file_extension": ".py",
   "mimetype": "text/x-python",
   "name": "python",
   "nbconvert_exporter": "python",
   "pygments_lexer": "ipython2",
   "version": "2.7.6"
  }
 },
 "nbformat": 4,
 "nbformat_minor": 5
}
