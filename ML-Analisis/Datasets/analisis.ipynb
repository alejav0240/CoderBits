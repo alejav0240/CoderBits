{
 "cells": [
  {
   "cell_type": "code",
   "id": "initial_id",
   "metadata": {
    "collapsed": true,
    "ExecuteTime": {
     "end_time": "2025-09-23T17:06:02.488169Z",
     "start_time": "2025-09-23T17:06:02.375864Z"
    }
   },
   "source": [
    "import pandas as pd\n",
    "import matplotlib.pyplot as plt\n",
    "import seaborn as sns"
   ],
   "outputs": [],
   "execution_count": 65
  },
  {
   "metadata": {},
   "cell_type": "markdown",
   "source": "# === 1. Cargar features ===",
   "id": "3b81c0af2a4fa9be"
  },
  {
   "metadata": {
    "ExecuteTime": {
     "end_time": "2025-09-23T17:06:02.790945Z",
     "start_time": "2025-09-23T17:06:02.702536Z"
    }
   },
   "cell_type": "code",
   "source": [
    "# Cargar el dataset (puede ser un archivo grande, considera usar 'low_memory=False')\n",
    "root_peth = '/home/javi/.cache/kagglehub/datasets/mrwellsdavid/unsw-nb15/versions/1/'\n",
    "features = pd.read_csv(root_peth+'NUSW-NB15_features.csv', low_memory=False,header=None)\n",
    "features.columns = [\"id\", \"feature\", \"type\", \"category\"]\n",
    "features.head()"
   ],
   "id": "61772db5eff60fa5",
   "outputs": [
    {
     "data": {
      "text/plain": [
       "    id feature     type                 category\n",
       "0  No.    Name    Type               Description\n",
       "1    1   srcip  nominal        Source IP address\n",
       "2    2   sport  integer       Source port number\n",
       "3    3   dstip  nominal   Destination IP address\n",
       "4    4  dsport  integer  Destination port number"
      ],
      "text/html": [
       "<div>\n",
       "<style scoped>\n",
       "    .dataframe tbody tr th:only-of-type {\n",
       "        vertical-align: middle;\n",
       "    }\n",
       "\n",
       "    .dataframe tbody tr th {\n",
       "        vertical-align: top;\n",
       "    }\n",
       "\n",
       "    .dataframe thead th {\n",
       "        text-align: right;\n",
       "    }\n",
       "</style>\n",
       "<table border=\"1\" class=\"dataframe\">\n",
       "  <thead>\n",
       "    <tr style=\"text-align: right;\">\n",
       "      <th></th>\n",
       "      <th>id</th>\n",
       "      <th>feature</th>\n",
       "      <th>type</th>\n",
       "      <th>category</th>\n",
       "    </tr>\n",
       "  </thead>\n",
       "  <tbody>\n",
       "    <tr>\n",
       "      <th>0</th>\n",
       "      <td>No.</td>\n",
       "      <td>Name</td>\n",
       "      <td>Type</td>\n",
       "      <td>Description</td>\n",
       "    </tr>\n",
       "    <tr>\n",
       "      <th>1</th>\n",
       "      <td>1</td>\n",
       "      <td>srcip</td>\n",
       "      <td>nominal</td>\n",
       "      <td>Source IP address</td>\n",
       "    </tr>\n",
       "    <tr>\n",
       "      <th>2</th>\n",
       "      <td>2</td>\n",
       "      <td>sport</td>\n",
       "      <td>integer</td>\n",
       "      <td>Source port number</td>\n",
       "    </tr>\n",
       "    <tr>\n",
       "      <th>3</th>\n",
       "      <td>3</td>\n",
       "      <td>dstip</td>\n",
       "      <td>nominal</td>\n",
       "      <td>Destination IP address</td>\n",
       "    </tr>\n",
       "    <tr>\n",
       "      <th>4</th>\n",
       "      <td>4</td>\n",
       "      <td>dsport</td>\n",
       "      <td>integer</td>\n",
       "      <td>Destination port number</td>\n",
       "    </tr>\n",
       "  </tbody>\n",
       "</table>\n",
       "</div>"
      ]
     },
     "execution_count": 66,
     "metadata": {},
     "output_type": "execute_result"
    }
   ],
   "execution_count": 66
  },
  {
   "metadata": {},
   "cell_type": "markdown",
   "source": "# === 2. Cargar datasets ===",
   "id": "d92afa50e96f9a95"
  },
  {
   "metadata": {
    "ExecuteTime": {
     "end_time": "2025-09-23T17:06:15.551145Z",
     "start_time": "2025-09-23T17:06:02.896498Z"
    }
   },
   "cell_type": "code",
   "source": [
    "files = [\"UNSW-NB15_1.csv\", \"UNSW-NB15_2.csv\", \"UNSW-NB15_3.csv\", \"UNSW-NB15_4.csv\"]\n",
    "df = pd.concat([pd.read_csv(root_peth+f, low_memory=False,header=None) for f in files], ignore_index=True)\n",
    "df.shape"
   ],
   "id": "3bc3c540991ffb39",
   "outputs": [
    {
     "ename": "KeyboardInterrupt",
     "evalue": "",
     "output_type": "error",
     "traceback": [
      "\u001B[31m---------------------------------------------------------------------------\u001B[39m",
      "\u001B[31mKeyboardInterrupt\u001B[39m                         Traceback (most recent call last)",
      "\u001B[36mCell\u001B[39m\u001B[36m \u001B[39m\u001B[32mIn[67]\u001B[39m\u001B[32m, line 2\u001B[39m\n\u001B[32m      1\u001B[39m files = [\u001B[33m\"\u001B[39m\u001B[33mUNSW-NB15_1.csv\u001B[39m\u001B[33m\"\u001B[39m, \u001B[33m\"\u001B[39m\u001B[33mUNSW-NB15_2.csv\u001B[39m\u001B[33m\"\u001B[39m, \u001B[33m\"\u001B[39m\u001B[33mUNSW-NB15_3.csv\u001B[39m\u001B[33m\"\u001B[39m, \u001B[33m\"\u001B[39m\u001B[33mUNSW-NB15_4.csv\u001B[39m\u001B[33m\"\u001B[39m]\n\u001B[32m----> \u001B[39m\u001B[32m2\u001B[39m df = \u001B[43mpd\u001B[49m\u001B[43m.\u001B[49m\u001B[43mconcat\u001B[49m\u001B[43m(\u001B[49m\u001B[43m[\u001B[49m\u001B[43mpd\u001B[49m\u001B[43m.\u001B[49m\u001B[43mread_csv\u001B[49m\u001B[43m(\u001B[49m\u001B[43mroot_peth\u001B[49m\u001B[43m+\u001B[49m\u001B[43mf\u001B[49m\u001B[43m,\u001B[49m\u001B[43m \u001B[49m\u001B[43mlow_memory\u001B[49m\u001B[43m=\u001B[49m\u001B[38;5;28;43;01mFalse\u001B[39;49;00m\u001B[43m,\u001B[49m\u001B[43mheader\u001B[49m\u001B[43m=\u001B[49m\u001B[38;5;28;43;01mNone\u001B[39;49;00m\u001B[43m)\u001B[49m\u001B[43m \u001B[49m\u001B[38;5;28;43;01mfor\u001B[39;49;00m\u001B[43m \u001B[49m\u001B[43mf\u001B[49m\u001B[43m \u001B[49m\u001B[38;5;129;43;01min\u001B[39;49;00m\u001B[43m \u001B[49m\u001B[43mfiles\u001B[49m\u001B[43m]\u001B[49m\u001B[43m,\u001B[49m\u001B[43m \u001B[49m\u001B[43mignore_index\u001B[49m\u001B[43m=\u001B[49m\u001B[38;5;28;43;01mTrue\u001B[39;49;00m\u001B[43m)\u001B[49m\n\u001B[32m      3\u001B[39m df.shape\n",
      "\u001B[36mFile \u001B[39m\u001B[32m~/anaconda3/envs/ML-Analisis/lib/python3.12/site-packages/pandas/core/reshape/concat.py:395\u001B[39m, in \u001B[36mconcat\u001B[39m\u001B[34m(objs, axis, join, ignore_index, keys, levels, names, verify_integrity, sort, copy)\u001B[39m\n\u001B[32m    380\u001B[39m     copy = \u001B[38;5;28;01mFalse\u001B[39;00m\n\u001B[32m    382\u001B[39m op = _Concatenator(\n\u001B[32m    383\u001B[39m     objs,\n\u001B[32m    384\u001B[39m     axis=axis,\n\u001B[32m   (...)\u001B[39m\u001B[32m    392\u001B[39m     sort=sort,\n\u001B[32m    393\u001B[39m )\n\u001B[32m--> \u001B[39m\u001B[32m395\u001B[39m \u001B[38;5;28;01mreturn\u001B[39;00m \u001B[43mop\u001B[49m\u001B[43m.\u001B[49m\u001B[43mget_result\u001B[49m\u001B[43m(\u001B[49m\u001B[43m)\u001B[49m\n",
      "\u001B[36mFile \u001B[39m\u001B[32m~/anaconda3/envs/ML-Analisis/lib/python3.12/site-packages/pandas/core/reshape/concat.py:684\u001B[39m, in \u001B[36m_Concatenator.get_result\u001B[39m\u001B[34m(self)\u001B[39m\n\u001B[32m    680\u001B[39m             indexers[ax] = obj_labels.get_indexer(new_labels)\n\u001B[32m    682\u001B[39m     mgrs_indexers.append((obj._mgr, indexers))\n\u001B[32m--> \u001B[39m\u001B[32m684\u001B[39m new_data = \u001B[43mconcatenate_managers\u001B[49m\u001B[43m(\u001B[49m\n\u001B[32m    685\u001B[39m \u001B[43m    \u001B[49m\u001B[43mmgrs_indexers\u001B[49m\u001B[43m,\u001B[49m\u001B[43m \u001B[49m\u001B[38;5;28;43mself\u001B[39;49m\u001B[43m.\u001B[49m\u001B[43mnew_axes\u001B[49m\u001B[43m,\u001B[49m\u001B[43m \u001B[49m\u001B[43mconcat_axis\u001B[49m\u001B[43m=\u001B[49m\u001B[38;5;28;43mself\u001B[39;49m\u001B[43m.\u001B[49m\u001B[43mbm_axis\u001B[49m\u001B[43m,\u001B[49m\u001B[43m \u001B[49m\u001B[43mcopy\u001B[49m\u001B[43m=\u001B[49m\u001B[38;5;28;43mself\u001B[39;49m\u001B[43m.\u001B[49m\u001B[43mcopy\u001B[49m\n\u001B[32m    686\u001B[39m \u001B[43m\u001B[49m\u001B[43m)\u001B[49m\n\u001B[32m    687\u001B[39m \u001B[38;5;28;01mif\u001B[39;00m \u001B[38;5;129;01mnot\u001B[39;00m \u001B[38;5;28mself\u001B[39m.copy \u001B[38;5;129;01mand\u001B[39;00m \u001B[38;5;129;01mnot\u001B[39;00m using_copy_on_write():\n\u001B[32m    688\u001B[39m     new_data._consolidate_inplace()\n",
      "\u001B[36mFile \u001B[39m\u001B[32m~/anaconda3/envs/ML-Analisis/lib/python3.12/site-packages/pandas/core/internals/concat.py:177\u001B[39m, in \u001B[36mconcatenate_managers\u001B[39m\u001B[34m(mgrs_indexers, axes, concat_axis, copy)\u001B[39m\n\u001B[32m    167\u001B[39m vals = [ju.block.values \u001B[38;5;28;01mfor\u001B[39;00m ju \u001B[38;5;129;01min\u001B[39;00m join_units]\n\u001B[32m    169\u001B[39m \u001B[38;5;28;01mif\u001B[39;00m \u001B[38;5;129;01mnot\u001B[39;00m blk.is_extension:\n\u001B[32m    170\u001B[39m     \u001B[38;5;66;03m# _is_uniform_join_units ensures a single dtype, so\u001B[39;00m\n\u001B[32m    171\u001B[39m     \u001B[38;5;66;03m#  we can use np.concatenate, which is more performant\u001B[39;00m\n\u001B[32m   (...)\u001B[39m\u001B[32m    175\u001B[39m     \u001B[38;5;66;03m# expected \"Union[_SupportsArray[dtype[Any]],\u001B[39;00m\n\u001B[32m    176\u001B[39m     \u001B[38;5;66;03m# _NestedSequence[_SupportsArray[dtype[Any]]]]\"\u001B[39;00m\n\u001B[32m--> \u001B[39m\u001B[32m177\u001B[39m     values = \u001B[43mnp\u001B[49m\u001B[43m.\u001B[49m\u001B[43mconcatenate\u001B[49m\u001B[43m(\u001B[49m\u001B[43mvals\u001B[49m\u001B[43m,\u001B[49m\u001B[43m \u001B[49m\u001B[43maxis\u001B[49m\u001B[43m=\u001B[49m\u001B[32;43m1\u001B[39;49m\u001B[43m)\u001B[49m  \u001B[38;5;66;03m# type: ignore[arg-type]\u001B[39;00m\n\u001B[32m    178\u001B[39m \u001B[38;5;28;01melif\u001B[39;00m is_1d_only_ea_dtype(blk.dtype):\n\u001B[32m    179\u001B[39m     \u001B[38;5;66;03m# TODO(EA2D): special-casing not needed with 2D EAs\u001B[39;00m\n\u001B[32m    180\u001B[39m     values = concat_compat(vals, axis=\u001B[32m0\u001B[39m, ea_compat_axis=\u001B[38;5;28;01mTrue\u001B[39;00m)\n",
      "\u001B[31mKeyboardInterrupt\u001B[39m: "
     ]
    }
   ],
   "execution_count": 67
  },
  {
   "metadata": {
    "ExecuteTime": {
     "end_time": "2025-09-23T17:06:15.589053930Z",
     "start_time": "2025-09-23T13:57:23.145541Z"
    }
   },
   "cell_type": "code",
   "source": "df = df.rename(columns={47: 'label'})",
   "id": "638f8433d7a15c46",
   "outputs": [],
   "execution_count": 30
  },
  {
   "metadata": {},
   "cell_type": "markdown",
   "source": "# === 3. Información general ===",
   "id": "574e9d99f0bd74f7"
  },
  {
   "metadata": {
    "ExecuteTime": {
     "end_time": "2025-09-23T17:06:15.602763433Z",
     "start_time": "2025-09-23T13:46:06.303843Z"
    }
   },
   "cell_type": "code",
   "source": [
    "print(\"\\nTipos de datos:\")\n",
    "df.dtypes.value_counts()"
   ],
   "id": "917ba76208f3372f",
   "outputs": [
    {
     "name": "stdout",
     "output_type": "stream",
     "text": [
      "\n",
      "Tipos de datos:\n"
     ]
    },
    {
     "data": {
      "text/plain": [
       "int64      28\n",
       "float64    12\n",
       "object      9\n",
       "Name: count, dtype: int64"
      ]
     },
     "execution_count": 19,
     "metadata": {},
     "output_type": "execute_result"
    }
   ],
   "execution_count": 19
  },
  {
   "metadata": {
    "ExecuteTime": {
     "end_time": "2025-09-23T17:06:15.605108370Z",
     "start_time": "2025-09-23T13:46:19.955849Z"
    }
   },
   "cell_type": "code",
   "source": [
    "print(\"\\nValores nulos por columna:\")\n",
    "df.isnull().sum().sort_values(ascending=False).head(10)"
   ],
   "id": "7b71746a15335de",
   "outputs": [
    {
     "name": "stdout",
     "output_type": "stream",
     "text": [
      "\n",
      "Valores nulos por columna:\n"
     ]
    },
    {
     "data": {
      "text/plain": [
       "47    2218764\n",
       "38    1429879\n",
       "37    1348145\n",
       "36          0\n",
       "27          0\n",
       "28          0\n",
       "29          0\n",
       "30          0\n",
       "31          0\n",
       "32          0\n",
       "dtype: int64"
      ]
     },
     "execution_count": 20,
     "metadata": {},
     "output_type": "execute_result"
    }
   ],
   "execution_count": 20
  },
  {
   "metadata": {},
   "cell_type": "markdown",
   "source": "# === 4. Clases (label columna 'label' -> 0: normal, 1: ataque) ===",
   "id": "eedfd8bb7592b4cd"
  },
  {
   "metadata": {
    "ExecuteTime": {
     "end_time": "2025-09-23T17:06:15.642695303Z",
     "start_time": "2025-09-23T13:57:43.275153Z"
    }
   },
   "cell_type": "code",
   "source": [
    "print(\"\\nDistribución de clases:\")\n",
    "df['label'].value_counts()"
   ],
   "id": "2f90a765a01dba54",
   "outputs": [
    {
     "name": "stdout",
     "output_type": "stream",
     "text": [
      "\n",
      "Distribución de clases:\n"
     ]
    },
    {
     "data": {
      "text/plain": [
       "label\n",
       "Generic             215481\n",
       "Exploits             44525\n",
       " Fuzzers             19195\n",
       "DoS                  16353\n",
       " Reconnaissance      12228\n",
       " Fuzzers              5051\n",
       "Analysis              2677\n",
       "Backdoor              1795\n",
       "Reconnaissance        1759\n",
       " Shellcode            1288\n",
       "Backdoors              534\n",
       "Shellcode              223\n",
       "Worms                  174\n",
       "Name: count, dtype: int64"
      ]
     },
     "execution_count": 31,
     "metadata": {},
     "output_type": "execute_result"
    }
   ],
   "execution_count": 31
  },
  {
   "metadata": {
    "ExecuteTime": {
     "end_time": "2025-09-23T17:06:15.645403791Z",
     "start_time": "2025-09-23T14:38:15.377901Z"
    }
   },
   "cell_type": "code",
   "source": [
    "# Creando una función para la lógica\n",
    "def clasificar_ataque(label):\n",
    "    if pd.isna(label):\n",
    "        return 'no identificado'  # Puedes devolver None para los nulos si los quieres manejar de forma diferente\n",
    "    elif label == 'Generic':\n",
    "        return 'normal'\n",
    "    else:\n",
    "        return 'ataque'"
   ],
   "id": "a330152bd73da775",
   "outputs": [],
   "execution_count": 45
  },
  {
   "metadata": {
    "ExecuteTime": {
     "end_time": "2025-09-23T17:06:15.647314203Z",
     "start_time": "2025-09-23T14:38:18.004577Z"
    }
   },
   "cell_type": "code",
   "source": [
    "# Aplicando la función a la columna 'label'\n",
    "df['ataque'] = df['label'].apply(clasificar_ataque)"
   ],
   "id": "5f214dcc48dd6605",
   "outputs": [],
   "execution_count": 46
  },
  {
   "metadata": {
    "ExecuteTime": {
     "end_time": "2025-09-23T17:06:15.649878761Z",
     "start_time": "2025-09-23T14:38:20.797451Z"
    }
   },
   "cell_type": "code",
   "source": "df['ataque'].value_counts()",
   "id": "1ecdf770814778a6",
   "outputs": [
    {
     "data": {
      "text/plain": [
       "ataque\n",
       "no identificado    2218764\n",
       "normal              215481\n",
       "ataque              105802\n",
       "Name: count, dtype: int64"
      ]
     },
     "execution_count": 47,
     "metadata": {},
     "output_type": "execute_result"
    }
   ],
   "execution_count": 47
  },
  {
   "metadata": {
    "ExecuteTime": {
     "end_time": "2025-09-23T17:06:15.667442272Z",
     "start_time": "2025-09-23T14:49:42.973288Z"
    }
   },
   "cell_type": "code",
   "source": [
    "conteo = df['ataque'].value_counts()\n",
    "conteo = conteo.drop(\"no identificado\", errors=\"ignore\")\n",
    "\n",
    "plt.figure(figsize=(6,4))\n",
    "sns.barplot(x=conteo.index, y=conteo.values)\n",
    "plt.title(\"Distribución de clases (Normal vs Ataque)\")\n",
    "plt.ylabel(\"Cantidad\")\n",
    "plt.show()\n"
   ],
   "id": "403c69ed4071e4e6",
   "outputs": [
    {
     "data": {
      "text/plain": [
       "<Figure size 600x400 with 1 Axes>"
      ],
      "image/png": "[encoded data removed]"
     },
     "metadata": {},
     "output_type": "display_data"
    }
   ],
   "execution_count": 59
  },
  {
   "metadata": {},
   "cell_type": "markdown",
   "source": "# === 5. Tipos de ataques ===",
   "id": "86684b52be1b1de"
  },
  {
   "metadata": {
    "ExecuteTime": {
     "end_time": "2025-09-23T17:06:15.669389132Z",
     "start_time": "2025-09-23T14:53:48.346003Z"
    }
   },
   "cell_type": "code",
   "source": [
    "print(\"\\nEstadísticas descriptivas:\")\n",
    "df.describe(include=\"all\").transpose().head(20)"
   ],
   "id": "8ce226d18938ab6",
   "outputs": [
    {
     "name": "stdout",
     "output_type": "stream",
     "text": [
      "\n",
      "Estadísticas descriptivas:\n"
     ]
    },
    {
     "data": {
      "text/plain": [
       "        count    unique            top      freq             mean  \\\n",
       "0     2540047        43     59.166.0.4    197959              NaN   \n",
       "1   2540047.0  129124.0         1043.0  214363.0              NaN   \n",
       "2     2540047        47  149.171.126.3    197771              NaN   \n",
       "3     2540047     64630             53    798968              NaN   \n",
       "4     2540047       135            tcp   1495074              NaN   \n",
       "5     2540047        16            FIN   1478689              NaN   \n",
       "6   2540047.0       NaN            NaN       NaN         0.658792   \n",
       "7   2540047.0       NaN            NaN       NaN      4339.600064   \n",
       "8   2540047.0       NaN            NaN       NaN     36427.593728   \n",
       "9   2540047.0       NaN            NaN       NaN        62.781975   \n",
       "10  2540047.0       NaN            NaN       NaN         30.76681   \n",
       "11  2540047.0       NaN            NaN       NaN         5.163921   \n",
       "12  2540047.0       NaN            NaN       NaN        16.329444   \n",
       "13    2540047        13              -   1246397              NaN   \n",
       "14  2540047.0       NaN            NaN       NaN  36956447.508916   \n",
       "15  2540047.0       NaN            NaN       NaN   2450861.216259   \n",
       "16  2540047.0       NaN            NaN       NaN        33.288843   \n",
       "17  2540047.0       NaN            NaN       NaN        42.726641   \n",
       "18  2540047.0       NaN            NaN       NaN       150.088749   \n",
       "19  2540047.0       NaN            NaN       NaN       149.745883   \n",
       "\n",
       "                 std  min          25%         50%         75%           max  \n",
       "0                NaN  NaN          NaN         NaN         NaN           NaN  \n",
       "1                NaN  NaN          NaN         NaN         NaN           NaN  \n",
       "2                NaN  NaN          NaN         NaN         NaN           NaN  \n",
       "3                NaN  NaN          NaN         NaN         NaN           NaN  \n",
       "4                NaN  NaN          NaN         NaN         NaN           NaN  \n",
       "5                NaN  NaN          NaN         NaN         NaN           NaN  \n",
       "6          13.924931  0.0     0.001037    0.015861    0.214554   8786.637695  \n",
       "7       56405.994681  0.0        200.0      1470.0      3182.0    14355774.0  \n",
       "8      161096.035542  0.0        178.0      1820.0     14894.0    14657531.0  \n",
       "9          74.622765  0.0         31.0        31.0        31.0         255.0  \n",
       "10         42.850888  0.0         29.0        29.0        29.0         254.0  \n",
       "11         22.517075  0.0          0.0         3.0         7.0        5319.0  \n",
       "12         56.594744  0.0          0.0         4.0        14.0        5507.0  \n",
       "13               NaN  NaN          NaN         NaN         NaN           NaN  \n",
       "14  118604331.282605  0.0  135396.2656   589303.75  2039922.75  5988000256.0  \n",
       "15    4224862.941531  0.0   11915.9375  589317.875   2925973.5   128761904.0  \n",
       "16         76.283883  0.0          2.0        12.0        44.0       10646.0  \n",
       "17        121.501964  0.0          2.0        12.0        42.0       11018.0  \n",
       "18        125.482409  0.0          0.0       255.0       255.0         255.0  \n",
       "19        125.543841  0.0          0.0       255.0       255.0         255.0  "
      ],
      "text/html": [
       "<div>\n",
       "<style scoped>\n",
       "    .dataframe tbody tr th:only-of-type {\n",
       "        vertical-align: middle;\n",
       "    }\n",
       "\n",
       "    .dataframe tbody tr th {\n",
       "        vertical-align: top;\n",
       "    }\n",
       "\n",
       "    .dataframe thead th {\n",
       "        text-align: right;\n",
       "    }\n",
       "</style>\n",
       "<table border=\"1\" class=\"dataframe\">\n",
       "  <thead>\n",
       "    <tr style=\"text-align: right;\">\n",
       "      <th></th>\n",
       "      <th>count</th>\n",
       "      <th>unique</th>\n",
       "      <th>top</th>\n",
       "      <th>freq</th>\n",
       "      <th>mean</th>\n",
       "      <th>std</th>\n",
       "      <th>min</th>\n",
       "      <th>25%</th>\n",
       "      <th>50%</th>\n",
       "      <th>75%</th>\n",
       "      <th>max</th>\n",
       "    </tr>\n",
       "  </thead>\n",
       "  <tbody>\n",
       "    <tr>\n",
       "      <th>0</th>\n",
       "      <td>2540047</td>\n",
       "      <td>43</td>\n",
       "      <td>59.166.0.4</td>\n",
       "      <td>197959</td>\n",
       "      <td>NaN</td>\n",
       "      <td>NaN</td>\n",
       "      <td>NaN</td>\n",
       "      <td>NaN</td>\n",
       "      <td>NaN</td>\n",
       "      <td>NaN</td>\n",
       "      <td>NaN</td>\n",
       "    </tr>\n",
       "    <tr>\n",
       "      <th>1</th>\n",
       "      <td>2540047.0</td>\n",
       "      <td>129124.0</td>\n",
       "      <td>1043.0</td>\n",
       "      <td>214363.0</td>\n",
       "      <td>NaN</td>\n",
       "      <td>NaN</td>\n",
       "      <td>NaN</td>\n",
       "      <td>NaN</td>\n",
       "      <td>NaN</td>\n",
       "      <td>NaN</td>\n",
       "      <td>NaN</td>\n",
       "    </tr>\n",
       "    <tr>\n",
       "      <th>2</th>\n",
       "      <td>2540047</td>\n",
       "      <td>47</td>\n",
       "      <td>149.171.126.3</td>\n",
       "      <td>197771</td>\n",
       "      <td>NaN</td>\n",
       "      <td>NaN</td>\n",
       "      <td>NaN</td>\n",
       "      <td>NaN</td>\n",
       "      <td>NaN</td>\n",
       "      <td>NaN</td>\n",
       "      <td>NaN</td>\n",
       "    </tr>\n",
       "    <tr>\n",
       "      <th>3</th>\n",
       "      <td>2540047</td>\n",
       "      <td>64630</td>\n",
       "      <td>53</td>\n",
       "      <td>798968</td>\n",
       "      <td>NaN</td>\n",
       "      <td>NaN</td>\n",
       "      <td>NaN</td>\n",
       "      <td>NaN</td>\n",
       "      <td>NaN</td>\n",
       "      <td>NaN</td>\n",
       "      <td>NaN</td>\n",
       "    </tr>\n",
       "    <tr>\n",
       "      <th>4</th>\n",
       "      <td>2540047</td>\n",
       "      <td>135</td>\n",
       "      <td>tcp</td>\n",
       "      <td>1495074</td>\n",
       "      <td>NaN</td>\n",
       "      <td>NaN</td>\n",
       "      <td>NaN</td>\n",
       "      <td>NaN</td>\n",
       "      <td>NaN</td>\n",
       "      <td>NaN</td>\n",
       "      <td>NaN</td>\n",
       "    </tr>\n",
       "    <tr>\n",
       "      <th>5</th>\n",
       "      <td>2540047</td>\n",
       "      <td>16</td>\n",
       "      <td>FIN</td>\n",
       "      <td>1478689</td>\n",
       "      <td>NaN</td>\n",
       "      <td>NaN</td>\n",
       "      <td>NaN</td>\n",
       "      <td>NaN</td>\n",
       "      <td>NaN</td>\n",
       "      <td>NaN</td>\n",
       "      <td>NaN</td>\n",
       "    </tr>\n",
       "    <tr>\n",
       "      <th>6</th>\n",
       "      <td>2540047.0</td>\n",
       "      <td>NaN</td>\n",
       "      <td>NaN</td>\n",
       "      <td>NaN</td>\n",
       "      <td>0.658792</td>\n",
       "      <td>13.924931</td>\n",
       "      <td>0.0</td>\n",
       "      <td>0.001037</td>\n",
       "      <td>0.015861</td>\n",
       "      <td>0.214554</td>\n",
       "      <td>8786.637695</td>\n",
       "    </tr>\n",
       "    <tr>\n",
       "      <th>7</th>\n",
       "      <td>2540047.0</td>\n",
       "      <td>NaN</td>\n",
       "      <td>NaN</td>\n",
       "      <td>NaN</td>\n",
       "      <td>4339.600064</td>\n",
       "      <td>56405.994681</td>\n",
       "      <td>0.0</td>\n",
       "      <td>200.0</td>\n",
       "      <td>1470.0</td>\n",
       "      <td>3182.0</td>\n",
       "      <td>14355774.0</td>\n",
       "    </tr>\n",
       "    <tr>\n",
       "      <th>8</th>\n",
       "      <td>2540047.0</td>\n",
       "      <td>NaN</td>\n",
       "      <td>NaN</td>\n",
       "      <td>NaN</td>\n",
       "      <td>36427.593728</td>\n",
       "      <td>161096.035542</td>\n",
       "      <td>0.0</td>\n",
       "      <td>178.0</td>\n",
       "      <td>1820.0</td>\n",
       "      <td>14894.0</td>\n",
       "      <td>14657531.0</td>\n",
       "    </tr>\n",
       "    <tr>\n",
       "      <th>9</th>\n",
       "      <td>2540047.0</td>\n",
       "      <td>NaN</td>\n",
       "      <td>NaN</td>\n",
       "      <td>NaN</td>\n",
       "      <td>62.781975</td>\n",
       "      <td>74.622765</td>\n",
       "      <td>0.0</td>\n",
       "      <td>31.0</td>\n",
       "      <td>31.0</td>\n",
       "      <td>31.0</td>\n",
       "      <td>255.0</td>\n",
       "    </tr>\n",
       "    <tr>\n",
       "      <th>10</th>\n",
       "      <td>2540047.0</td>\n",
       "      <td>NaN</td>\n",
       "      <td>NaN</td>\n",
       "      <td>NaN</td>\n",
       "      <td>30.76681</td>\n",
       "      <td>42.850888</td>\n",
       "      <td>0.0</td>\n",
       "      <td>29.0</td>\n",
       "      <td>29.0</td>\n",
       "      <td>29.0</td>\n",
       "      <td>254.0</td>\n",
       "    </tr>\n",
       "    <tr>\n",
       "      <th>11</th>\n",
       "      <td>2540047.0</td>\n",
       "      <td>NaN</td>\n",
       "      <td>NaN</td>\n",
       "      <td>NaN</td>\n",
       "      <td>5.163921</td>\n",
       "      <td>22.517075</td>\n",
       "      <td>0.0</td>\n",
       "      <td>0.0</td>\n",
       "      <td>3.0</td>\n",
       "      <td>7.0</td>\n",
       "      <td>5319.0</td>\n",
       "    </tr>\n",
       "    <tr>\n",
       "      <th>12</th>\n",
       "      <td>2540047.0</td>\n",
       "      <td>NaN</td>\n",
       "      <td>NaN</td>\n",
       "      <td>NaN</td>\n",
       "      <td>16.329444</td>\n",
       "      <td>56.594744</td>\n",
       "      <td>0.0</td>\n",
       "      <td>0.0</td>\n",
       "      <td>4.0</td>\n",
       "      <td>14.0</td>\n",
       "      <td>5507.0</td>\n",
       "    </tr>\n",
       "    <tr>\n",
       "      <th>13</th>\n",
       "      <td>2540047</td>\n",
       "      <td>13</td>\n",
       "      <td>-</td>\n",
       "      <td>1246397</td>\n",
       "      <td>NaN</td>\n",
       "      <td>NaN</td>\n",
       "      <td>NaN</td>\n",
       "      <td>NaN</td>\n",
       "      <td>NaN</td>\n",
       "      <td>NaN</td>\n",
       "      <td>NaN</td>\n",
       "    </tr>\n",
       "    <tr>\n",
       "      <th>14</th>\n",
       "      <td>2540047.0</td>\n",
       "      <td>NaN</td>\n",
       "      <td>NaN</td>\n",
       "      <td>NaN</td>\n",
       "      <td>36956447.508916</td>\n",
       "      <td>118604331.282605</td>\n",
       "      <td>0.0</td>\n",
       "      <td>135396.2656</td>\n",
       "      <td>589303.75</td>\n",
       "      <td>2039922.75</td>\n",
       "      <td>5988000256.0</td>\n",
       "    </tr>\n",
       "    <tr>\n",
       "      <th>15</th>\n",
       "      <td>2540047.0</td>\n",
       "      <td>NaN</td>\n",
       "      <td>NaN</td>\n",
       "      <td>NaN</td>\n",
       "      <td>2450861.216259</td>\n",
       "      <td>4224862.941531</td>\n",
       "      <td>0.0</td>\n",
       "      <td>11915.9375</td>\n",
       "      <td>589317.875</td>\n",
       "      <td>2925973.5</td>\n",
       "      <td>128761904.0</td>\n",
       "    </tr>\n",
       "    <tr>\n",
       "      <th>16</th>\n",
       "      <td>2540047.0</td>\n",
       "      <td>NaN</td>\n",
       "      <td>NaN</td>\n",
       "      <td>NaN</td>\n",
       "      <td>33.288843</td>\n",
       "      <td>76.283883</td>\n",
       "      <td>0.0</td>\n",
       "      <td>2.0</td>\n",
       "      <td>12.0</td>\n",
       "      <td>44.0</td>\n",
       "      <td>10646.0</td>\n",
       "    </tr>\n",
       "    <tr>\n",
       "      <th>17</th>\n",
       "      <td>2540047.0</td>\n",
       "      <td>NaN</td>\n",
       "      <td>NaN</td>\n",
       "      <td>NaN</td>\n",
       "      <td>42.726641</td>\n",
       "      <td>121.501964</td>\n",
       "      <td>0.0</td>\n",
       "      <td>2.0</td>\n",
       "      <td>12.0</td>\n",
       "      <td>42.0</td>\n",
       "      <td>11018.0</td>\n",
       "    </tr>\n",
       "    <tr>\n",
       "      <th>18</th>\n",
       "      <td>2540047.0</td>\n",
       "      <td>NaN</td>\n",
       "      <td>NaN</td>\n",
       "      <td>NaN</td>\n",
       "      <td>150.088749</td>\n",
       "      <td>125.482409</td>\n",
       "      <td>0.0</td>\n",
       "      <td>0.0</td>\n",
       "      <td>255.0</td>\n",
       "      <td>255.0</td>\n",
       "      <td>255.0</td>\n",
       "    </tr>\n",
       "    <tr>\n",
       "      <th>19</th>\n",
       "      <td>2540047.0</td>\n",
       "      <td>NaN</td>\n",
       "      <td>NaN</td>\n",
       "      <td>NaN</td>\n",
       "      <td>149.745883</td>\n",
       "      <td>125.543841</td>\n",
       "      <td>0.0</td>\n",
       "      <td>0.0</td>\n",
       "      <td>255.0</td>\n",
       "      <td>255.0</td>\n",
       "      <td>255.0</td>\n",
       "    </tr>\n",
       "  </tbody>\n",
       "</table>\n",
       "</div>"
      ]
     },
     "execution_count": 61,
     "metadata": {},
     "output_type": "execute_result"
    }
   ],
   "execution_count": 61
  },
  {
   "metadata": {},
   "cell_type": "markdown",
   "source": "# === 7. Correlación ===",
   "id": "add107eceb9f79d4"
  },
  {
   "metadata": {
    "ExecuteTime": {
     "end_time": "2025-09-23T17:06:15.672364691Z",
     "start_time": "2025-09-23T14:55:39.957390Z"
    }
   },
   "cell_type": "code",
   "source": [
    "plt.figure(figsize=(25,20))\n",
    "sns.heatmap(df.corr(numeric_only=True).round(2), cmap=\"coolwarm\")\n",
    "plt.title(\"Matriz de correlación\")\n",
    "plt.show()"
   ],
   "id": "27b14f76a1090632",
   "outputs": [
    {
     "data": {
      "text/plain": [
       "<Figure size 2500x2000 with 2 Axes>"
      ],
      "image/png": "[encoded data removed]"
     },
     "metadata": {},
     "output_type": "display_data"
    }
   ],
   "execution_count": 64
  }
 ],
 "metadata": {
  "kernelspec": {
   "display_name": "Python 3",
   "language": "python",
   "name": "python3"
  },
  "language_info": {
   "codemirror_mode": {
    "name": "ipython",
    "version": 2
   },
   "file_extension": ".py",
   "mimetype": "text/x-python",
   "name": "python",
   "nbconvert_exporter": "python",
   "pygments_lexer": "ipython2",
   "version": "2.7.6"
  }
 },
 "nbformat": 4,
 "nbformat_minor": 5
}
